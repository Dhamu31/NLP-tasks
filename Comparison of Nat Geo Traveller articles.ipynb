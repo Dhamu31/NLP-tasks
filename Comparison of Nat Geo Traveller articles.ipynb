{
 "cells": [
  {
   "cell_type": "code",
   "execution_count": 120,
   "id": "9b64fd3a",
   "metadata": {},
   "outputs": [],
   "source": [
    "from sklearn.feature_extraction.text import TfidfVectorizer\n",
    "vect = TfidfVectorizer(stop_words=\"english\")"
   ]
  },
  {
   "cell_type": "code",
   "execution_count": 121,
   "id": "b07f2c5a",
   "metadata": {},
   "outputs": [],
   "source": [
    "# Three Destinations across India for you solo adventures - Muskaan Gupta\n",
    "# Ziro Festival of Music is Sustainability’s Top Ticket - Sudrisha Goswami\n",
    "# Echoes Of Earth Music Festival to Celebrate the Circle of Life - Muskaan Gupta\n",
    "# A New Home of Music in Goa - Joanna Lobo\n",
    "\n",
    "#Corpus of many writers\n",
    "\n",
    "corpus = [\"With a new year ahead and resolutions astound, why not kick the year off with some soul searching or a dose of adventure? Every traveller at some point wonders of taking on the world, making solo discoveries and uncovering landscapes to add to their personal list of recommendations. Rounding up three destinations best explored on foot, peek at options that offer a healthy dose of culture, heritage, adventure, food and soul-stirring sunsets. When it comes to jotting down a solo traveller’s bucket list, Bir Billing in Himachal Pradesh’s Kangra district, renowned for being a paragliding hotspot of India is a beautiful destination that easily makes its way to the top. There are plenty of activities to choose from. Hop on a narrow gauge railway or the famous toy train and soak in the vistas of the picturesque valley, make your way to the natural table tops to catch mesmerising sunsets or go café-hopping and sample decadent hot chocolates and indulgent burgers.If you’re seeking a more active itinerary, consider a day hike with Skecher’s Crossbar shoes. Fitted with Air Cooled Memory Foam insole, the water-repellent shoes are a comfortable fit for walking on mixed terrains. For the best views, trek half an hour up to Mangroli Mata Temple. The steep climb is an easy fix to fade city blues as the quaint spot flashes views of layered mountains. Another popular trek is the two-kilometre trail to Garh Wali Mata Temple which cuts through a blue pine forest. The hike rewards with kaleidoscopic sunsets and a clear view of the Billing valley. The Thamsar Pass Trek begins from Rajgindha in the Kangra district and makes for a good 3-5 day adventure for moderately experienced mountaineers. The starting point lies 14 kilometres from Bir, although it can be walked easily in half a day. On the way to Thamsar, beautiful waterfalls and small villages will dot the way. Enjoy verdant meadows, exciting ascents and alluring hillscapes here. You may also opt for a waterfall trek to cap off a hike with a cool plunge in the natural pools. If you’re looking forward to the trek more than the falls, head to Gunehar village. Expect steep down-climbs and slippery rocks before reaching the magnificent Bangoru Waterfall for a natural shower. Choose comfortable walking shoes from Skechers outdoor footwear collection that bring convenience and style together. Chances are, they might become your favourite travel gear. Finally, test your feet by walking the entire course of the small villages. Bir Billing Monasteries are a must-visit hub for serenity. Learn about Buddhist culture, meditate, cook and experience slow living at centres like Palpung Sherabling Monastery, Nyingyang Monastery and Tsering Jong Monastery.\",\n",
    "          \"My journey to Ziro unfolds with tea estate panoramas in Assam, and hairpin turns that reveal peaking wild bison and mountains at every turn. The valley, tucked in the Apatani plateau of the Lower Subansiri district of Arunachal Pradesh, is a UNESCO World Heritage Site for housing the Apatani community.  The chilly late September air holds the promise of harvest for locals here. We cruise past the golden paddy fields, kissing the feet of rolling mountains, and farmers at work to reach the Ziro Festival of Music. The Ziro Festival of Music is hosted annually by the Apatanis, a tribe noted for their literacy, agricultural and land-use proficiency. Music runs through the community’s heritage. The Apatanis sang hymns and marched down from the Talley Valley and entered Ziro through Hari Rantü to call it home for centuries to come, owing to its fertile land and favourable weather conditions. “We worship nature for protecting us and lifting our tribe to prosperity,” says Punyo Tana, an Apatani. “Each of the seven villages housed by the Apatanis consider the tallest tree in their region as the guardian angel that protects their people.” he elaborates and graciously invites me to the annual Myoko festival in the upcoming spring, where the tribe gets together to pray for a successful cultivation and the wellbeing of the villagers. This year, the Apatanis hosted the 9th edition of Ziro Festival of Music after a two-year hiatus. Kiwi plantations on both sides of the trail lead the way towards harmonies that draw me into the gates of the festival. A stroll on a bamboo bridge follows, surprisingly sturdy to carry the weight of many eager festival-goers, like myself, marching to the beats. As the sun passes the baton to the moon, the sky dims for the festive lights to set the mood. Crowds cluster near the main stage and sway to the alt-rock tunes of Takar Nabam, a singer song-writer from Itanagar. Ziro’s biggest act for the wider world is its commitment to sustainability. I notice that all infrastructural facilities at the festival are carved out of locally-sourced and reusable materials. The Signature ‘Danyii’ stage and the Simba ‘Pwlo’ stage are constructed with bamboo and pine or oak wood, as are the connected stalls and the food court.  The design element is borrowed from local bamboo weaving. With attention to details, bamboo light fixtures replace fairy lights, notorious for exuding carbon emissions. Once the festival is over, the materials used are stored safely to be repurposed next year. The local wood has properties unique to itself that make it a durable support for the festival. In fact, traditional Apatani houses, which have sheltered the tribe for centuries, are also built with wood sourced from the surrounding forests.\",\n",
    "          \"A rush of good vibes and a memorable weekend, all brought by an eclectic line-up, forms the ethos of a live music festival. If you find yourself in the cyber valley this weekend, bookmark Echoes of Earth—India’s greenest music festival—as it returns to Bengaluru for its fifth edition on December 3rd and 4th with its riveting stories, holiday fervour, and ecstatic glow. The two-day multi-event will be held at Embassy Riding School in Bengaluru, tucked away among 180 acres of expansive greenery. With a larger aim to explore narratives each year on sustainability, the 2022 theme—circle of life—is set to reveal itself through larger-than-life installations brought by innovations from IKEA, Budweiser and Johnnie Walker. It is a celebration of art, mindfulness and circular life. The pioneering spirit of the festival rests on the elements of ‘reduce, reuse, recycle’ and the event touts itself for its solar-powered stages, no plastic zones and responsible waste disposal. But adding a musical spin to their theme of preserving diverse ecosystems, the festival brings forth a phenomenal artist line-up of 40 global performers across genres. The awaited headliners like Hanumankind, The Lojal Experience, Easy Wanderlings, Vieux Farka Toure, T.ill Apes and The Yussef Dayes Experience find roots of their art in elements of nature—soil, air, water and light. The creators of the festival envision bringing together the essence of five of India’s most prominent ecosystems through music, art and powerful human-impact stories surrounding conservation and restoration. Bringing a pulse to the festival, the festival partners like Johnnie Walker will spotlight eco-warriors chronicling their sustainability journeys. Zeeshan Khan, an entrepreneur, Ditty, a Delhi-based indie artist and urban ecologist, Malaika Vaz, a National Geographic Explorer and Sahar Mansoor, the founder of Bare necessities will take the stage.\", \n",
    "          \"It is just a room. It has four corners, a wooden ceiling, and doors with oyster shell panes and tiled awnings. It is heavily decorated with printed umbrellas hanging from the ceiling, a wall of framed photos, and the Goan ghumot and the Portuguese guitar. One wall arrests attention for looking like a street in Lisbon. The ceiling to floor mural has 3D effects that make it lifelike; a little lamppost, a flower pot, more tiled roofs, and windows. This is the ‘street’ on which celebrated Goan fadista (fado singer) Sonia Shirsat takes centre-stage every few weeks, filling the room with her strong, powerful voice as she serenades people with fados and mandos. This is Madragoa, Casa do Fado e Mandó or what they call the world’s first house dedicated to these two musical genres. Fado is a Portuguese musical genre, while the mando is a musical form performed by Goan Catholics. Madragoa began its musical journey on Independence Day in 2018. The concert occupies one room in a 200-year-old Goan home in Panjim, by the riverfront. A wide stone staircase neatly segregates the house into two parts: one where the de Noronha family takes up residence, the other house is the Centre for Indo-Portuguese Art (CIPA). CIPA is an umbrella academy, the passion project of Orlando de Noronha who wanted a space to showcase, document and impart information about the culinary, literary, and ceramic arts and music. CIPA is home to Azulejos de Goa—a shop dedicated to his azulejos (hand-painted ceramic tiles), his elder brother Óscar de Noronha’s Third Millennium Publishers; de Noronha Associates, which makes customised crockery; Renascença Goa, which is a Portuguese chat show; Cháfé Braz—a balcony café serving Indo-Portuguese snacks named after legendary saxophonist Braz Gonsalves; and Madragoa. Orlando, a fine arts graduate, was inspired to open Madragoa during his one-year stint in Portugal in 1997, where he had gone to learn how to play the Portuguese guitar and make azulejos. In Coimbra, the musician visited a friend’s little place, where they conducted fado concerts almost every day. “People could just walk in and experience this art form,” he says. “These people had sacrificed their time and put in effort to preserve their culture and music. It made me think about doing something similar in Goa.” On his return, he got busy with azulejos.\"]"
   ]
  },
  {
   "cell_type": "code",
   "execution_count": 122,
   "id": "d9c8bb14",
   "metadata": {},
   "outputs": [
    {
     "data": {
      "text/html": [
       "<style>#sk-container-id-19 {color: black;background-color: white;}#sk-container-id-19 pre{padding: 0;}#sk-container-id-19 div.sk-toggleable {background-color: white;}#sk-container-id-19 label.sk-toggleable__label {cursor: pointer;display: block;width: 100%;margin-bottom: 0;padding: 0.3em;box-sizing: border-box;text-align: center;}#sk-container-id-19 label.sk-toggleable__label-arrow:before {content: \"▸\";float: left;margin-right: 0.25em;color: #696969;}#sk-container-id-19 label.sk-toggleable__label-arrow:hover:before {color: black;}#sk-container-id-19 div.sk-estimator:hover label.sk-toggleable__label-arrow:before {color: black;}#sk-container-id-19 div.sk-toggleable__content {max-height: 0;max-width: 0;overflow: hidden;text-align: left;background-color: #f0f8ff;}#sk-container-id-19 div.sk-toggleable__content pre {margin: 0.2em;color: black;border-radius: 0.25em;background-color: #f0f8ff;}#sk-container-id-19 input.sk-toggleable__control:checked~div.sk-toggleable__content {max-height: 200px;max-width: 100%;overflow: auto;}#sk-container-id-19 input.sk-toggleable__control:checked~label.sk-toggleable__label-arrow:before {content: \"▾\";}#sk-container-id-19 div.sk-estimator input.sk-toggleable__control:checked~label.sk-toggleable__label {background-color: #d4ebff;}#sk-container-id-19 div.sk-label input.sk-toggleable__control:checked~label.sk-toggleable__label {background-color: #d4ebff;}#sk-container-id-19 input.sk-hidden--visually {border: 0;clip: rect(1px 1px 1px 1px);clip: rect(1px, 1px, 1px, 1px);height: 1px;margin: -1px;overflow: hidden;padding: 0;position: absolute;width: 1px;}#sk-container-id-19 div.sk-estimator {font-family: monospace;background-color: #f0f8ff;border: 1px dotted black;border-radius: 0.25em;box-sizing: border-box;margin-bottom: 0.5em;}#sk-container-id-19 div.sk-estimator:hover {background-color: #d4ebff;}#sk-container-id-19 div.sk-parallel-item::after {content: \"\";width: 100%;border-bottom: 1px solid gray;flex-grow: 1;}#sk-container-id-19 div.sk-label:hover label.sk-toggleable__label {background-color: #d4ebff;}#sk-container-id-19 div.sk-serial::before {content: \"\";position: absolute;border-left: 1px solid gray;box-sizing: border-box;top: 0;bottom: 0;left: 50%;z-index: 0;}#sk-container-id-19 div.sk-serial {display: flex;flex-direction: column;align-items: center;background-color: white;padding-right: 0.2em;padding-left: 0.2em;position: relative;}#sk-container-id-19 div.sk-item {position: relative;z-index: 1;}#sk-container-id-19 div.sk-parallel {display: flex;align-items: stretch;justify-content: center;background-color: white;position: relative;}#sk-container-id-19 div.sk-item::before, #sk-container-id-19 div.sk-parallel-item::before {content: \"\";position: absolute;border-left: 1px solid gray;box-sizing: border-box;top: 0;bottom: 0;left: 50%;z-index: -1;}#sk-container-id-19 div.sk-parallel-item {display: flex;flex-direction: column;z-index: 1;position: relative;background-color: white;}#sk-container-id-19 div.sk-parallel-item:first-child::after {align-self: flex-end;width: 50%;}#sk-container-id-19 div.sk-parallel-item:last-child::after {align-self: flex-start;width: 50%;}#sk-container-id-19 div.sk-parallel-item:only-child::after {width: 0;}#sk-container-id-19 div.sk-dashed-wrapped {border: 1px dashed gray;margin: 0 0.4em 0.5em 0.4em;box-sizing: border-box;padding-bottom: 0.4em;background-color: white;}#sk-container-id-19 div.sk-label label {font-family: monospace;font-weight: bold;display: inline-block;line-height: 1.2em;}#sk-container-id-19 div.sk-label-container {text-align: center;}#sk-container-id-19 div.sk-container {/* jupyter's `normalize.less` sets `[hidden] { display: none; }` but bootstrap.min.css set `[hidden] { display: none !important; }` so we also need the `!important` here to be able to override the default hidden behavior on the sphinx rendered scikit-learn.org. See: https://github.com/scikit-learn/scikit-learn/issues/21755 */display: inline-block !important;position: relative;}#sk-container-id-19 div.sk-text-repr-fallback {display: none;}</style><div id=\"sk-container-id-19\" class=\"sk-top-container\"><div class=\"sk-text-repr-fallback\"><pre>TfidfVectorizer(stop_words=&#x27;english&#x27;)</pre><b>In a Jupyter environment, please rerun this cell to show the HTML representation or trust the notebook. <br />On GitHub, the HTML representation is unable to render, please try loading this page with nbviewer.org.</b></div><div class=\"sk-container\" hidden><div class=\"sk-item\"><div class=\"sk-estimator sk-toggleable\"><input class=\"sk-toggleable__control sk-hidden--visually\" id=\"sk-estimator-id-19\" type=\"checkbox\" checked><label for=\"sk-estimator-id-19\" class=\"sk-toggleable__label sk-toggleable__label-arrow\">TfidfVectorizer</label><div class=\"sk-toggleable__content\"><pre>TfidfVectorizer(stop_words=&#x27;english&#x27;)</pre></div></div></div></div></div>"
      ],
      "text/plain": [
       "TfidfVectorizer(stop_words='english')"
      ]
     },
     "execution_count": 122,
     "metadata": {},
     "output_type": "execute_result"
    }
   ],
   "source": [
    "# convert th documents into a matrix\n",
    "vect.fit(corpus)"
   ]
  },
  {
   "cell_type": "code",
   "execution_count": 123,
   "id": "7fc2e5ee",
   "metadata": {},
   "outputs": [],
   "source": [
    "vocab = vect.vocabulary_"
   ]
  },
  {
   "cell_type": "code",
   "execution_count": 124,
   "id": "820b2d95",
   "metadata": {},
   "outputs": [],
   "source": [
    "doc1 = \"As soon as a long, gleaming dark green train carriage, emblazoned with ‘Eastern & Oriental Express’ in engraved gold lettering slides into Hua Hin station, I feel a tinge of self-consciousness. Neither I nor my co-passengers from India are dressed for something this imperial. For the last hour, we have been milling about Hua Hin, Thailand’s oldest railway station—a quirky but fading royal artefact—in our baggy tees, jeans and dusty shoes, lugging backpacks and satchels. Once I hop aboard the train though, the air is less intimidating. While this is a majestic luxury locomotive boasting every accoutrement of refined sophistication, I see open, friendly faces in casual wear and summer hats. To be clear, our group is not actually travelling on the E&O Express, presently journeying between Singapore and Bangkok. We are only passing through, being shown around for a brief period by a senior manager in an impeccable grey suit. Launched in the 1990s, the Express’s carriages originally belonged to another train called the Silver Star, but they have now been refitted to reflect Indochina’s fine artistry and its Western past. We are in the train’s bar area, where both style elements compete for attention: the walls and flooring appear to evoke a colonial-era, upper-class gentlemen’s club with tanned teak wood panels. And then, there are more decorative finishes, which nod to Asian designs, from the train’s silken upholstery to its intricate marquetry on furnishings. Outside, Hua Hin’s landscape scrolls by, framed by windows, like a scene from a TV screen. The comfortable sofa-style seating is separated in the middle by a compact side table with an antique lamp. Reclining in one of the seats, I sense the appeal of spending a few hours catching a snooze with a half-read paperback resting on my lap. Behind the bar counter, a spiffily attired bartender in a vest whips out a signature cocktail, presenting it with a smoke-filled grand finish for the cameras. The drink is there for our taking but there isn’t any time for tasting and we hurry on to the dining car for a meal cooked by the train’s chef Yannis Martineau. I dig into some duck that’s spiced in dark local sauces but retains the classic delicacy of French cooking; even dessert, usually a rich amalgam of milk, fruit and coconut in Thai meals, has a lightness to it. When passengers want to come up for air, they head to the Express’s observation car at its far end. En route, we pass a hallway of closed doors, our guide identifying them as sleeper cabins. For fans of Agatha Christie, the stuffy passage should jog a memory. After all, the Express was a backdrop for one of her most famous mysteries, finally unlocked by Hercule Poirot and his moustache twirl. Christie’s iconic work cemented the train as a world of slinky glamour, full of fashionable cloche-hatted beauties, imposing English dames and debonair playboys.\""
   ]
  },
  {
   "cell_type": "code",
   "execution_count": 125,
   "id": "e132f1e5",
   "metadata": {},
   "outputs": [],
   "source": [
    "doc2 = \"The world’s greatest cities are brutal, unsentimental places, precisely the reason why so many of us fall so irrevocably under their spell. In its worst hour, this bond can curdle into bitter complaints of unrequited affection and everyday torment. “The subway doesn’t work, trash is overflowing and it’s too crowded; this is over.” Let me assure you that right now someone somewhere is uttering these words about your dream metropolis, New York, Rome, Rio De Janeiro. Like an unrepentant cad, the city laughs in their face, “Go on… live without me.” Wresting long-term connections comes with the occasional pang of nostalgic regret. Those who can’t escape their love of cities are destined to keep replaying that first flush of romance, that moment when a city went from a destination to home. A traveller’s sense of a city is always ephemeral. Not that this discredits his or her insights but to genuinely get under the skin of a modern metropolis, we look towards its people, leaning against its sidewalks, reading in café nooks or flirting in nightclubs. One of the best descriptions of city love I’ve read is in a wonderful book on London with a rather circuitous moniker: Londoners: The Days And Nights Of London Now—As Told By Those Who Love It, Hate It, Live It, Left It, And Long For It. In it writer Craig Taylor, who lived in the British capital for years, recalls relocating to Toronto and fielding that pesky question, “How do you feel about London?” He had a complicated answer, “It wasn’t a two-way relationship. It was no use thinking this place loses any sleep over me.” That’s the messy conundrum of a great city, as experienced by its besotted paramours, some of whom can’t kick the habit even if they tried. Travellers attempting to understand an urban jungle are better off trying to study its undercurrents. In September’s ode to five global cities, NGTI attempts to get a measure of their pulse. A writer dives into Belfast’s turbulent past to fully grasp its present-day vibrancy, another digs into the back alleys of Kuala Lumpur’s inimitable heritage food joints. We profile New York’s Hudson Yards, a gaudy spectacle that has divided New Yorkers, and chronicle the rise of Bauhaus in Tel Aviv. Finally we unpack Finland’s oldest city Turku. A city is fertile land for dramatic histories, new narratives and moving stories. Travellers, never immune to these irresistible tales, are bound to pass through its golden gates, over and over.\""
   ]
  },
  {
   "cell_type": "code",
   "execution_count": 139,
   "id": "594bcbe6",
   "metadata": {},
   "outputs": [
    {
     "name": "stdout",
     "output_type": "stream",
     "text": [
      "6.1884 %\n"
     ]
    }
   ],
   "source": [
    "# Comparing two documents\n",
    "from sklearn.metrics.pairwise import cosine_similarity\n",
    "similarity = cosine_similarity((vect.transform([doc1])),(vect.transform([doc2])))\n",
    "val = similarity*100\n",
    "print(round(val[0][0],4), \"%\")"
   ]
  },
  {
   "cell_type": "code",
   "execution_count": 113,
   "id": "164f7210",
   "metadata": {},
   "outputs": [],
   "source": [
    "# Corpus of articles from Laxmi Sankaran\n",
    "\n",
    "corpus1 = [\"Part of the allure of a remote place is that the closer we get to it, the more we risk everything that made it precious. For years, Mount Everest inspired a sense of forbidden majesty, which was surmounted only by a few courageous adventurers. It helped that they were entertaining and we were content to immerse ourselves in the stories they wove from these monumental expeditions. In 2019, life-changing experiences are more easily found. This is probably why, when a photo of tourists lined up outside Everest’s summit, as though it were some check-in counter at an airport dispensing visas, was widely debated three months ago, the overwhelming emotion was deflated acceptance. No one in this day and age will be denied their Edmund Hillary moment. In February, the New York Times ran a panicked headline about another solitary paradise, which had long been removed from sustained tourist interference—the Galápagos. “Going to the Galápagos Is Easier and Cheaper Than Ever. That Might Not Be a Good Thing,” it warned. According to the article, “in 2017, 2,41,800 people visited the islands, up from 1,73,419 a decade earlier.” I am not highlighting these concerns as a spoilsport to anyone’s dreams. Travellers have earned their right to be wherever they choose to be. Even more so, seeking out the elusive is neither new nor groundbreaking; people were born of this earthly garden and returning to its comforting delights is the most primal of escapes. But the irony of how long we have this profusion of wilderness has not been lost, especially while we look towards the outdoors for constant nourishment and inspiration.\", \n",
    "          \"In this modern agnostic world, pop culture is the closest thing we have to a shared religion. Matinee idols, artists and rock stars are our gods and goddesses, feeding us an endless supply of enchanting lore and myths. For this movement to thrive though, it needs fans; followers who have gone beyond aloof observation. Pop culture requires that fans click below to subscribe, not let it just play in the background. One of my favourite explorations of fandom is Almost Famous, Cameron Crowe’s amusing semi-autobiographical movie about a wide-eyed teen writer and music geek, William, who receives the assignment of a lifetime when a magazine commissions him to join his beloved rock band on the road. William’s mentor is Lester Bangs, a senior critic with a hilarious zeal for mainstream culture. Lester would often launch into passionate defences of popular music, and a few lines from one fiery soliloquy, delivered to William in a diner, have always stayed with me. “The day it ceases to be dumb is the day it ceases to be real. Right? And then it will just become an Industry of Cool.” Pop culture is the industry of joy, I like to think. Its idols make our lives immeasurably more tolerable. We carry their songs in us, we live inside the fables they create. Sometimes, we travel to be reminded of them. Or other times, they recreate the places for us. Children of the nineties probably bought into two exaggerated but equally popular versions of New York, depending on what they watched—Friends or Seinfeld. If you grew up glued to the former, you thought the Big Apple was a city full of broke singletons who spent endless hours in coffee shops, cracking wise. If it was the other, your New York was a place with impatient eccentrics out to steal your soup recipe. In NGTI’s seventh anniversary edition, pop culture is the dominant conversation—travelling to relive the stories of famous movie stars, musicians, chefs and authors, to seek out their influences in the places they loved, from Colombia to Vietnam. Our contributors have handpicked their deities—Anthony Bourdain, Don Draper, The Beatles, Harry Potter, Shah Rukh Khan, among 18 names. We are true believers in these men, women and characters. Travelling in their shadow feels wonderful, delirious and appropriate. If this issue comes off as an unapologetic love fest, that’s entirely accurate. As Lester would put it, we are righteously dumb and hopelessly uncool.\", \n",
    "          \"New and exciting has always received top billing in food—the latest fad, the newest restaurant, the trendiest neighbourhood, the healthiest diet. Often, these developments are accompanied by breathless pundit-like pronouncements: Lebanese is the new Chinese; Chinese is new Italian (wait, where does leave that Italian then?) A cuisine or dish has a moment, peaks and then becomes passé. While there is no shortage of cover versions, originals stand the test of time. And at National Geographic Traveller India, we confess to being partial to one classic. Creating and editing magazines in this day and age, with limited or, sometimes, binding resources, is a mental endurance test. Nothing makes the looming pressures more palatable than food. It is always on our mind. What gets us through the final sweaty hours, month after month, is an absolute Bombay fixture—the vada pav. We are a group of ardent foodies, and the deadline-hour vada pav toast is our modest tradition. Vada pavs are to Mumbai what hot dogs are to New York. Naysayers can knock the street staple all they want but we, at the magazine, are quite misty-eyed about our Bombaiya tastes. And for our collective money, there is no vada pav that quite matches Ashok Vada Pav, or the Kirti College vada pav, as it is casually referred to. The choice might feel obvious to insiders but it is well deserved. Vada pavs are simple—stick a fried potato ball with a sweet scintillating chutney in a fluffy bun; what can go wrong? But Ashok Vada Pav punches up with the zingiest combination of sauces and just the right cook on the vada, and tops it off with the showstopper—crispy fried crumbs of batter. Think of it as vada pav with fries. My thoughts on the vada pav can get more mawkish and graphic but suffice it to say that the pleasures of food are timeless. All the features in this month’s edition, from Pondicherry, Los Angeles, all over Europe, Laos and New Zealand, recall this essential aspect of travel. Regular readers can pick up any edition of our magazine and confirm our dedication to food. Our writers go to wondrous locations and more often than not, they return with stories of food, of how a single bite opened a fascinating world to them. Once a year, we devote our energy into creating a singular edition where ‘good food’ is not the sideshow of journeys. For that special issue, taste doesn’t seem incidental to storytelling, the spotlight follows it everywhere it goes.\",\n",
    "          \"Every summer, the pastoral call of their motherland, Kerala, beckoned my parents. Their children would plead that they change direction at least for one year but these entreaties were dismissed as flakiness. Summer months were set in stone. And contrary to the breezy, game-for-anything attitude that the sun induced in many folks, for my mother and father, it was a season for constancy. Kids, however, are enamoured of the new and for that reason my face developed a serious case of the ‘summer scowl’ for our family’s month-long sojourn away from the city. I held on to it as if it were my most precious accessory. Even in the midst of unbridled fun—summer in Kerala has a disarming way of wearing down the staunchest defences and a person can only sulk so much—I was quick to plaster the scowl back on. Any sign that I was enjoying myself would only encourage my parents’ loyalist tendencies, I figured. These days, my summers are as free as they can be. With providence and resources on my side, I could just as well spin the globe and pick a spot to summer at. But in the last few years, I have been searching for a tradition of my own making. Granted, the season is an exciting time of possibilities and a cue to throw caution to the wind. The unbearably same-old, same-old is made slightly not so, if only through temporary escape. As some of you would suggest, there’s no need to stay rooted in summer. Why this quest for a ritualistic journey to one place then? As light and frothy as summer is made out to be, it has long been associated with routines. Caucasians descending on Bali for their annual surf-and-yoga retreat, millennials on a camping trip to the Western Ghats, elderly couples heading to Mussoorie for a respite from the heat or die-hard road warriors planning their yearly summit to the mountains are all creatures of seasonal habit. Everyone has their go-to destination and it’s one where they try to create an idyllic alternate universe. Some of our readers may already have their summers planned. I imagine there are those, who will be following paths they have tread before. For others, NGTI’s summer issue has much to choose from—a scrumptious gelato-sampling feast in Italy, a charming rustic getaway on a Ratnagiri farm, an immersive trip to the holy land in Jerusalem and an artsy trail of Monet’s favourite haunts in Normandy, France. Perhaps, by the end of this summer, we would have found a place to call our own, a refuge to return to over and over.\"]"
   ]
  },
  {
   "cell_type": "code",
   "execution_count": 114,
   "id": "f16923db",
   "metadata": {},
   "outputs": [],
   "source": [
    "vect1 = TfidfVectorizer(stop_words=\"english\")"
   ]
  },
  {
   "cell_type": "code",
   "execution_count": 115,
   "id": "829b37a4",
   "metadata": {},
   "outputs": [
    {
     "data": {
      "text/html": [
       "<style>#sk-container-id-18 {color: black;background-color: white;}#sk-container-id-18 pre{padding: 0;}#sk-container-id-18 div.sk-toggleable {background-color: white;}#sk-container-id-18 label.sk-toggleable__label {cursor: pointer;display: block;width: 100%;margin-bottom: 0;padding: 0.3em;box-sizing: border-box;text-align: center;}#sk-container-id-18 label.sk-toggleable__label-arrow:before {content: \"▸\";float: left;margin-right: 0.25em;color: #696969;}#sk-container-id-18 label.sk-toggleable__label-arrow:hover:before {color: black;}#sk-container-id-18 div.sk-estimator:hover label.sk-toggleable__label-arrow:before {color: black;}#sk-container-id-18 div.sk-toggleable__content {max-height: 0;max-width: 0;overflow: hidden;text-align: left;background-color: #f0f8ff;}#sk-container-id-18 div.sk-toggleable__content pre {margin: 0.2em;color: black;border-radius: 0.25em;background-color: #f0f8ff;}#sk-container-id-18 input.sk-toggleable__control:checked~div.sk-toggleable__content {max-height: 200px;max-width: 100%;overflow: auto;}#sk-container-id-18 input.sk-toggleable__control:checked~label.sk-toggleable__label-arrow:before {content: \"▾\";}#sk-container-id-18 div.sk-estimator input.sk-toggleable__control:checked~label.sk-toggleable__label {background-color: #d4ebff;}#sk-container-id-18 div.sk-label input.sk-toggleable__control:checked~label.sk-toggleable__label {background-color: #d4ebff;}#sk-container-id-18 input.sk-hidden--visually {border: 0;clip: rect(1px 1px 1px 1px);clip: rect(1px, 1px, 1px, 1px);height: 1px;margin: -1px;overflow: hidden;padding: 0;position: absolute;width: 1px;}#sk-container-id-18 div.sk-estimator {font-family: monospace;background-color: #f0f8ff;border: 1px dotted black;border-radius: 0.25em;box-sizing: border-box;margin-bottom: 0.5em;}#sk-container-id-18 div.sk-estimator:hover {background-color: #d4ebff;}#sk-container-id-18 div.sk-parallel-item::after {content: \"\";width: 100%;border-bottom: 1px solid gray;flex-grow: 1;}#sk-container-id-18 div.sk-label:hover label.sk-toggleable__label {background-color: #d4ebff;}#sk-container-id-18 div.sk-serial::before {content: \"\";position: absolute;border-left: 1px solid gray;box-sizing: border-box;top: 0;bottom: 0;left: 50%;z-index: 0;}#sk-container-id-18 div.sk-serial {display: flex;flex-direction: column;align-items: center;background-color: white;padding-right: 0.2em;padding-left: 0.2em;position: relative;}#sk-container-id-18 div.sk-item {position: relative;z-index: 1;}#sk-container-id-18 div.sk-parallel {display: flex;align-items: stretch;justify-content: center;background-color: white;position: relative;}#sk-container-id-18 div.sk-item::before, #sk-container-id-18 div.sk-parallel-item::before {content: \"\";position: absolute;border-left: 1px solid gray;box-sizing: border-box;top: 0;bottom: 0;left: 50%;z-index: -1;}#sk-container-id-18 div.sk-parallel-item {display: flex;flex-direction: column;z-index: 1;position: relative;background-color: white;}#sk-container-id-18 div.sk-parallel-item:first-child::after {align-self: flex-end;width: 50%;}#sk-container-id-18 div.sk-parallel-item:last-child::after {align-self: flex-start;width: 50%;}#sk-container-id-18 div.sk-parallel-item:only-child::after {width: 0;}#sk-container-id-18 div.sk-dashed-wrapped {border: 1px dashed gray;margin: 0 0.4em 0.5em 0.4em;box-sizing: border-box;padding-bottom: 0.4em;background-color: white;}#sk-container-id-18 div.sk-label label {font-family: monospace;font-weight: bold;display: inline-block;line-height: 1.2em;}#sk-container-id-18 div.sk-label-container {text-align: center;}#sk-container-id-18 div.sk-container {/* jupyter's `normalize.less` sets `[hidden] { display: none; }` but bootstrap.min.css set `[hidden] { display: none !important; }` so we also need the `!important` here to be able to override the default hidden behavior on the sphinx rendered scikit-learn.org. See: https://github.com/scikit-learn/scikit-learn/issues/21755 */display: inline-block !important;position: relative;}#sk-container-id-18 div.sk-text-repr-fallback {display: none;}</style><div id=\"sk-container-id-18\" class=\"sk-top-container\"><div class=\"sk-text-repr-fallback\"><pre>TfidfVectorizer(stop_words=&#x27;english&#x27;)</pre><b>In a Jupyter environment, please rerun this cell to show the HTML representation or trust the notebook. <br />On GitHub, the HTML representation is unable to render, please try loading this page with nbviewer.org.</b></div><div class=\"sk-container\" hidden><div class=\"sk-item\"><div class=\"sk-estimator sk-toggleable\"><input class=\"sk-toggleable__control sk-hidden--visually\" id=\"sk-estimator-id-18\" type=\"checkbox\" checked><label for=\"sk-estimator-id-18\" class=\"sk-toggleable__label sk-toggleable__label-arrow\">TfidfVectorizer</label><div class=\"sk-toggleable__content\"><pre>TfidfVectorizer(stop_words=&#x27;english&#x27;)</pre></div></div></div></div></div>"
      ],
      "text/plain": [
       "TfidfVectorizer(stop_words='english')"
      ]
     },
     "execution_count": 115,
     "metadata": {},
     "output_type": "execute_result"
    }
   ],
   "source": [
    "vect1.fit(corpus1)"
   ]
  },
  {
   "cell_type": "code",
   "execution_count": 116,
   "id": "53d45203",
   "metadata": {},
   "outputs": [],
   "source": [
    "vocab = vect.vocabulary_"
   ]
  },
  {
   "cell_type": "code",
   "execution_count": 140,
   "id": "e2b84556",
   "metadata": {},
   "outputs": [
    {
     "name": "stdout",
     "output_type": "stream",
     "text": [
      "12.9018 %\n"
     ]
    }
   ],
   "source": [
    "# Comparing two documents\n",
    "from sklearn.metrics.pairwise import cosine_similarity\n",
    "similarity = cosine_similarity((vect1.transform([doc1])),(vect1.transform([doc2])))\n",
    "val = similarity*100\n",
    "print(round(val[0][0],4), \"%\")"
   ]
  },
  {
   "cell_type": "code",
   "execution_count": null,
   "id": "92808af1",
   "metadata": {},
   "outputs": [],
   "source": []
  }
 ],
 "metadata": {
  "kernelspec": {
   "display_name": "Python 3 (ipykernel)",
   "language": "python",
   "name": "python3"
  },
  "language_info": {
   "codemirror_mode": {
    "name": "ipython",
    "version": 3
   },
   "file_extension": ".py",
   "mimetype": "text/x-python",
   "name": "python",
   "nbconvert_exporter": "python",
   "pygments_lexer": "ipython3",
   "version": "3.10.5"
  }
 },
 "nbformat": 4,
 "nbformat_minor": 5
}
