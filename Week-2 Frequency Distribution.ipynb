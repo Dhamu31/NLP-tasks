{
 "cells": [
  {
   "cell_type": "markdown",
   "id": "1f7060be",
   "metadata": {},
   "source": [
    "# Task - 1 Frequency Distribution"
   ]
  },
  {
   "cell_type": "code",
   "execution_count": 42,
   "id": "b17cff7f",
   "metadata": {},
   "outputs": [],
   "source": [
    "import nltk"
   ]
  },
  {
   "cell_type": "code",
   "execution_count": 43,
   "id": "a8694487",
   "metadata": {},
   "outputs": [],
   "source": [
    "text = \"Artificial intelligence (AI) is intelligence—perceiving, synthesizing, and inferring information—demonstrated by machines, as opposed to intelligence displayed by animals and humans. Example tasks in which this is done include speech recognition, computer vision, translation between (natural) languages, as well as other mappings of inputs.\""
   ]
  },
  {
   "cell_type": "code",
   "execution_count": 44,
   "id": "db38c730",
   "metadata": {},
   "outputs": [
    {
     "data": {
      "text/plain": [
       "FreqDist({'as': 3, 'intelligence': 2, 'is': 2, 'and': 2, 'by': 2, 'Artificial': 1, '(AI)': 1, 'intelligence—perceiving,': 1, 'synthesizing,': 1, 'inferring': 1, ...})"
      ]
     },
     "execution_count": 44,
     "metadata": {},
     "output_type": "execute_result"
    }
   ],
   "source": [
    "fd = nltk.FreqDist(text.split())\n",
    "fd"
   ]
  },
  {
   "cell_type": "markdown",
   "id": "2ee04571",
   "metadata": {},
   "source": [
    "# Task 2 - Conditional Frequency Distribution"
   ]
  },
  {
   "cell_type": "code",
   "execution_count": 45,
   "id": "3bb5b5c9",
   "metadata": {},
   "outputs": [],
   "source": [
    "from nltk.probability import ConditionalFreqDist"
   ]
  },
  {
   "cell_type": "code",
   "execution_count": 46,
   "id": "6e2077b0",
   "metadata": {},
   "outputs": [
    {
     "data": {
      "text/plain": [
       "FreqDist({'(AI)': 1, 'this': 1, 'done': 1, 'well': 1})"
      ]
     },
     "execution_count": 46,
     "metadata": {},
     "output_type": "execute_result"
    }
   ],
   "source": [
    "cfd = ConditionalFreqDist((len(word), word) for word in text.split())\n",
    "cfd[4]"
   ]
  },
  {
   "cell_type": "markdown",
   "id": "44536af5",
   "metadata": {},
   "source": [
    "# Task 3 - Chinese text"
   ]
  },
  {
   "cell_type": "code",
   "execution_count": 50,
   "id": "459913ae",
   "metadata": {},
   "outputs": [
    {
     "name": "stdout",
     "output_type": "stream",
     "text": [
      "Requirement already satisfied: jieba in c:\\users\\dhamo\\appdata\\local\\programs\\python\\python310\\lib\\site-packages (0.42.1)\n"
     ]
    },
    {
     "name": "stderr",
     "output_type": "stream",
     "text": [
      "WARNING: Ignoring invalid distribution -rotobuf (c:\\users\\dhamo\\appdata\\local\\programs\\python\\python310\\lib\\site-packages)\n",
      "WARNING: Ignoring invalid distribution -rotobuf (c:\\users\\dhamo\\appdata\\local\\programs\\python\\python310\\lib\\site-packages)\n",
      "WARNING: Ignoring invalid distribution -rotobuf (c:\\users\\dhamo\\appdata\\local\\programs\\python\\python310\\lib\\site-packages)\n",
      "WARNING: Ignoring invalid distribution -rotobuf (c:\\users\\dhamo\\appdata\\local\\programs\\python\\python310\\lib\\site-packages)\n",
      "WARNING: Ignoring invalid distribution -rotobuf (c:\\users\\dhamo\\appdata\\local\\programs\\python\\python310\\lib\\site-packages)\n",
      "WARNING: Ignoring invalid distribution -rotobuf (c:\\users\\dhamo\\appdata\\local\\programs\\python\\python310\\lib\\site-packages)\n"
     ]
    }
   ],
   "source": [
    "!pip install jieba"
   ]
  },
  {
   "cell_type": "code",
   "execution_count": 51,
   "id": "1f2d4a79",
   "metadata": {},
   "outputs": [
    {
     "ename": "NameError",
     "evalue": "name 'jieba' is not defined",
     "output_type": "error",
     "traceback": [
      "\u001b[1;31m---------------------------------------------------------------------------\u001b[0m",
      "\u001b[1;31mNameError\u001b[0m                                 Traceback (most recent call last)",
      "Input \u001b[1;32mIn [51]\u001b[0m, in \u001b[0;36m<cell line: 1>\u001b[1;34m()\u001b[0m\n\u001b[1;32m----> 1\u001b[0m seg \u001b[38;5;241m=\u001b[39m \u001b[43mjieba\u001b[49m\u001b[38;5;241m.\u001b[39mcut(\u001b[38;5;124m\"\u001b[39m\u001b[38;5;124m網站有中、英文版本，也有繁、簡體版，可通過每頁左上角的連結隨時調整\u001b[39m\u001b[38;5;124m\"\u001b[39m, cut_all\u001b[38;5;241m=\u001b[39m\u001b[38;5;28;01mTrue\u001b[39;00m)\n\u001b[0;32m      2\u001b[0m \u001b[38;5;28mprint\u001b[39m(\u001b[38;5;124m\"\u001b[39m\u001b[38;5;124m\"\u001b[39m\u001b[38;5;241m.\u001b[39mjoin(seg))\n",
      "\u001b[1;31mNameError\u001b[0m: name 'jieba' is not defined"
     ]
    }
   ],
   "source": [
    "seg = jieba.cut(\"網站有中、英文版本，也有繁、簡體版，可通過每頁左上角的連結隨時調整\", cut_all=True)\n",
    "print(\"\".join(seg))"
   ]
  },
  {
   "cell_type": "markdown",
   "id": "8005504e",
   "metadata": {},
   "source": [
    "# Task 4 - Tokenize"
   ]
  },
  {
   "cell_type": "code",
   "execution_count": 52,
   "id": "8b08ee20",
   "metadata": {},
   "outputs": [],
   "source": [
    "#4\n",
    "#import nltk\n",
    "#sent=\"Become an Expert in NLP\"\n",
    "#words=nltk.word_tokenize(sent)\n",
    "#print(words)"
   ]
  },
  {
   "cell_type": "code",
   "execution_count": 55,
   "id": "edfbc163",
   "metadata": {},
   "outputs": [
    {
     "name": "stdout",
     "output_type": "stream",
     "text": [
      "[('APJ', 'NNP'), ('Abdul', 'NNP'), ('Kalam', 'NNP'), ('was', 'VBD'), ('unique', 'JJ'), ('man', 'NN'), ('.', '.')]\n",
      "[('The', 'DT'), ('most', 'RBS'), ('remarkable', 'JJ'), ('aspect', 'NN'), ('of', 'IN'), ('this', 'DT'), ('man', 'NN'), ('was', 'VBD'), ('his', 'PRP$'), ('leaping', 'JJ'), ('optimism', 'NN'), (',', ','), ('positive', 'JJ'), ('attitude', 'NN'), ('even', 'RB'), ('amidst', 'VBD'), ('frustrating', 'JJ'), ('circumstances', 'NNS'), ('.', '.')]\n",
      "[('While', 'IN'), ('addressing', 'VBG'), ('the', 'DT'), ('ISRO', 'NNP'), ('scientists', 'NNS'), ('in', 'IN'), ('Trivandrum', 'NNP'), ('he', 'PRP'), ('showed', 'VBD'), ('remarkable', 'JJ'), ('positivity', 'NN'), ('in', 'IN'), ('science', 'NN'), (',', ','), ('politics', 'NNS'), ('and', 'CC'), ('journalism', 'NN'), ('and', 'CC'), ('everything', 'NN'), ('he', 'PRP'), ('touched', 'VBD'), ('upon', 'NN'), ('and', 'CC'), ('looked', 'VBD'), ('forward', 'RB'), ('to', 'TO'), ('India', 'NNP'), ('planting', 'VBG'), ('the', 'DT'), ('tricolor', 'NN'), ('on', 'IN'), ('the', 'DT'), ('moon', 'NN'), ('when', 'WRB'), ('PSLV', 'NNP'), ('faced', 'VBD'), ('some', 'DT'), ('failures', 'NNS'), ('!', '.')]\n",
      "[('At', 'IN'), ('the', 'DT'), ('INS', 'NNP'), ('meeting', 'NN'), ('at', 'IN'), ('Kalpakkam', 'NNP'), ('in', 'IN'), ('2003', 'CD'), (',', ','), ('he', 'PRP'), ('overruled', 'VBD'), ('Chairman', 'NNP'), ('AEC', 'NNP'), ('and', 'CC'), ('suggested', 'VBD'), ('a', 'DT'), ('much', 'RB'), ('higher', 'JJR'), ('target', 'NN'), ('for', 'IN'), ('the', 'DT'), ('projected', 'VBN'), ('nuclear', 'JJ'), ('power', 'NN'), ('in', 'IN'), ('India', 'NNP'), ('.', '.')]\n",
      "[('His', 'PRP$'), ('impatience', 'NN'), ('to', 'TO'), ('find', 'VB'), ('applications', 'NNS'), ('of', 'IN'), ('his', 'PRP$'), ('research', 'NN'), ('in', 'IN'), ('other', 'JJ'), ('fields', 'NNS'), ('resulted', 'VBD'), ('in', 'IN'), ('the', 'DT'), ('development', 'NN'), ('of', 'IN'), ('a', 'DT'), ('metallurgical', 'JJ'), ('alloy', 'NN'), ('for', 'IN'), ('designing', 'VBG'), ('artificial', 'JJ'), ('limbs', 'NNS'), ('which', 'WDT'), ('was', 'VBD'), ('1/10th', 'JJ'), ('weight', 'NN'), ('of', 'IN'), ('the', 'DT'), ('normal', 'JJ'), ('ones', 'NNS'), ('and', 'CC'), ('using', 'VBG'), ('his', 'PRP$'), ('innovation', 'NN'), ('to', 'TO'), ('design', 'VB'), ('a', 'DT'), ('cheaper', 'JJR'), ('coronary', 'JJ'), ('stent', 'NN'), ('.', '.')]\n"
     ]
    }
   ],
   "source": [
    "texts=\"APJ Abdul Kalam was unique man. The most remarkable aspect of this man was his leaping optimism, positive attitude even amidst frustrating circumstances. While addressing the ISRO scientists in Trivandrum he showed remarkable positivity in science, politics and journalism and everything he touched upon and looked forward to India planting the tricolor on the moon when PSLV faced some failures! At the INS meeting at Kalpakkam in 2003, he overruled Chairman AEC and suggested a much higher target for the projected nuclear power in India. His impatience to find applications of his research in other fields resulted in the development of a metallurgical alloy for designing artificial limbs which was 1/10th weight of the normal ones and using his innovation to design a cheaper coronary stent.\"\n",
    "texts = nltk.sent_tokenize(texts)\n",
    "for text in texts:\n",
    "    sentences=nltk.sent_tokenize(text)\n",
    "    #print(sentences)\n",
    "    for sentence in sentences:\n",
    "        word=nltk.word_tokenize(sentence)\n",
    "        #print(word)\n",
    "        tagged=nltk.pos_tag(word)\n",
    "        print(tagged)"
   ]
  },
  {
   "cell_type": "code",
   "execution_count": null,
   "id": "99716905",
   "metadata": {},
   "outputs": [],
   "source": []
  }
 ],
 "metadata": {
  "kernelspec": {
   "display_name": "Python 3 (ipykernel)",
   "language": "python",
   "name": "python3"
  },
  "language_info": {
   "codemirror_mode": {
    "name": "ipython",
    "version": 3
   },
   "file_extension": ".py",
   "mimetype": "text/x-python",
   "name": "python",
   "nbconvert_exporter": "python",
   "pygments_lexer": "ipython3",
   "version": "3.10.5"
  }
 },
 "nbformat": 4,
 "nbformat_minor": 5
}
